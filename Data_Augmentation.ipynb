{
  "nbformat": 4,
  "nbformat_minor": 0,
  "metadata": {
    "colab": {
      "name": "Data Augmentation.ipynb",
      "provenance": [],
      "collapsed_sections": []
    },
    "kernelspec": {
      "name": "python3",
      "display_name": "Python 3"
    },
    "language_info": {
      "name": "python"
    }
  },
  "cells": [
    {
      "cell_type": "code",
      "execution_count": 1,
      "metadata": {
        "id": "hQuRQeJPd2dG"
      },
      "outputs": [],
      "source": [
        "from keras.preprocessing.image import ImageDataGenerator, array_to_img, img_to_array, load_img"
      ]
    },
    {
      "cell_type": "code",
      "source": [
        "datagen = ImageDataGenerator(\n",
        "    rotation_range = 40,\n",
        "    width_shift_range = 0.2,\n",
        "    height_shift_range = 0.2,\n",
        "    shear_range = 0.2,\n",
        "    zoom_range = 0.2,\n",
        "    horizontal_flip = True,\n",
        "    fill_mode = 'nearest'\n",
        ")"
      ],
      "metadata": {
        "id": "Imch4EKRjwE7"
      },
      "execution_count": 2,
      "outputs": []
    },
    {
      "cell_type": "code",
      "source": [
        "img = load_img('cat.jpg')"
      ],
      "metadata": {
        "id": "jXwD-UX6k4Ez"
      },
      "execution_count": 3,
      "outputs": []
    },
    {
      "cell_type": "code",
      "source": [
        "x = img_to_array(img)"
      ],
      "metadata": {
        "id": "p1eh9WxZk8_R"
      },
      "execution_count": 4,
      "outputs": []
    },
    {
      "cell_type": "code",
      "source": [
        "x"
      ],
      "metadata": {
        "colab": {
          "base_uri": "https://localhost:8080/"
        },
        "id": "LGCf8m46k928",
        "outputId": "15fd91f0-64f7-4a19-d9c8-7c1dddd77cd3"
      },
      "execution_count": 5,
      "outputs": [
        {
          "output_type": "execute_result",
          "data": {
            "text/plain": [
              "array([[[161., 163., 175.],\n",
              "        [162., 164., 176.],\n",
              "        [164., 166., 178.],\n",
              "        ...,\n",
              "        [155., 140., 121.],\n",
              "        [150., 135., 116.],\n",
              "        [143., 130., 113.]],\n",
              "\n",
              "       [[162., 164., 176.],\n",
              "        [163., 165., 177.],\n",
              "        [164., 166., 178.],\n",
              "        ...,\n",
              "        [155., 140., 121.],\n",
              "        [150., 135., 116.],\n",
              "        [144., 131., 114.]],\n",
              "\n",
              "       [[165., 165., 177.],\n",
              "        [166., 166., 178.],\n",
              "        [167., 167., 179.],\n",
              "        ...,\n",
              "        [154., 139., 120.],\n",
              "        [149., 134., 115.],\n",
              "        [143., 130., 113.]],\n",
              "\n",
              "       ...,\n",
              "\n",
              "       [[ 23.,  22.,  18.],\n",
              "        [ 23.,  22.,  18.],\n",
              "        [ 23.,  22.,  18.],\n",
              "        ...,\n",
              "        [189., 181., 162.],\n",
              "        [187., 179., 160.],\n",
              "        [185., 177., 158.]],\n",
              "\n",
              "       [[ 23.,  22.,  18.],\n",
              "        [ 23.,  22.,  18.],\n",
              "        [ 23.,  22.,  18.],\n",
              "        ...,\n",
              "        [189., 181., 162.],\n",
              "        [187., 179., 160.],\n",
              "        [185., 177., 158.]],\n",
              "\n",
              "       [[ 22.,  21.,  19.],\n",
              "        [ 22.,  21.,  17.],\n",
              "        [ 22.,  21.,  17.],\n",
              "        ...,\n",
              "        [192., 181., 163.],\n",
              "        [189., 178., 160.],\n",
              "        [186., 175., 157.]]], dtype=float32)"
            ]
          },
          "metadata": {},
          "execution_count": 5
        }
      ]
    },
    {
      "cell_type": "code",
      "source": [
        "x = x.reshape((1,) + x.shape)  # this is array with shape (1, 3, 150, 150) (4d, rgb, 150 X 150)"
      ],
      "metadata": {
        "id": "qVUd80gTlJRC"
      },
      "execution_count": 6,
      "outputs": []
    },
    {
      "cell_type": "code",
      "source": [
        "x"
      ],
      "metadata": {
        "colab": {
          "base_uri": "https://localhost:8080/"
        },
        "id": "DgCbe9PflTQl",
        "outputId": "f2c4f2d4-3ef7-4cca-ff64-0e4f51e084fb"
      },
      "execution_count": 7,
      "outputs": [
        {
          "output_type": "execute_result",
          "data": {
            "text/plain": [
              "array([[[[161., 163., 175.],\n",
              "         [162., 164., 176.],\n",
              "         [164., 166., 178.],\n",
              "         ...,\n",
              "         [155., 140., 121.],\n",
              "         [150., 135., 116.],\n",
              "         [143., 130., 113.]],\n",
              "\n",
              "        [[162., 164., 176.],\n",
              "         [163., 165., 177.],\n",
              "         [164., 166., 178.],\n",
              "         ...,\n",
              "         [155., 140., 121.],\n",
              "         [150., 135., 116.],\n",
              "         [144., 131., 114.]],\n",
              "\n",
              "        [[165., 165., 177.],\n",
              "         [166., 166., 178.],\n",
              "         [167., 167., 179.],\n",
              "         ...,\n",
              "         [154., 139., 120.],\n",
              "         [149., 134., 115.],\n",
              "         [143., 130., 113.]],\n",
              "\n",
              "        ...,\n",
              "\n",
              "        [[ 23.,  22.,  18.],\n",
              "         [ 23.,  22.,  18.],\n",
              "         [ 23.,  22.,  18.],\n",
              "         ...,\n",
              "         [189., 181., 162.],\n",
              "         [187., 179., 160.],\n",
              "         [185., 177., 158.]],\n",
              "\n",
              "        [[ 23.,  22.,  18.],\n",
              "         [ 23.,  22.,  18.],\n",
              "         [ 23.,  22.,  18.],\n",
              "         ...,\n",
              "         [189., 181., 162.],\n",
              "         [187., 179., 160.],\n",
              "         [185., 177., 158.]],\n",
              "\n",
              "        [[ 22.,  21.,  19.],\n",
              "         [ 22.,  21.,  17.],\n",
              "         [ 22.,  21.,  17.],\n",
              "         ...,\n",
              "         [192., 181., 163.],\n",
              "         [189., 178., 160.],\n",
              "         [186., 175., 157.]]]], dtype=float32)"
            ]
          },
          "metadata": {},
          "execution_count": 7
        }
      ]
    },
    {
      "cell_type": "code",
      "source": [
        "i=0\n",
        "for batch in datagen.flow(x, batch_size=1, save_to_dir='preview',save_prefix='cat',save_format='jpg'):\n",
        "  i += 1\n",
        "  if (i > 20):\n",
        "    break"
      ],
      "metadata": {
        "id": "QrisC6GylWWi"
      },
      "execution_count": 10,
      "outputs": []
    }
  ]
}